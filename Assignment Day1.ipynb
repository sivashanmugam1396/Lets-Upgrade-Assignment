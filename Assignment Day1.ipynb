{
 "cells": [
  {
   "cell_type": "markdown",
   "metadata": {},
   "source": [
    "Assignment 1 ( different functions of the string in python )"
   ]
  },
  {
   "cell_type": "code",
   "execution_count": 3,
   "metadata": {},
   "outputs": [
    {
     "name": "stdout",
     "output_type": "stream",
     "text": [
      "My Name is Pankaj\n",
      "I like Java and Python\n",
      "I like Java and Python\n",
      "I like Python and Java\n"
     ]
    }
   ],
   "source": [
    "    #format()\n",
    "\n",
    "print(\"My Name is {0}\".format(\"Pankaj\"))\n",
    "print(\"I like {0} and {1}\".format(\"Java\", \"Python\"))\n",
    "# same as above\n",
    "print(\"I like {} and {}\".format(\"Java\", \"Python\"))\n",
    "\n",
    "# index can be in any order\n",
    "print(\"I like {1} and {0}\".format(\"Java\", \"Python\"))"
   ]
  },
  {
   "cell_type": "code",
   "execution_count": 5,
   "metadata": {},
   "outputs": [
    {
     "name": "stdout",
     "output_type": "stream",
     "text": [
      "Python is Nice\n",
      "tost\n"
     ]
    }
   ],
   "source": [
    "     #replace()\n",
    "\n",
    "s = 'Java is Nice'\n",
    "\n",
    "# simple string replace \n",
    "str_new = s.replace('Java', 'Python')\n",
    "print(str_new)\n",
    "\n",
    "# replace character in string\n",
    "s = 'post'\n",
    "str_new = s.replace('p', 't')\n",
    "print(str_new)"
   ]
  },
  {
   "cell_type": "code",
   "execution_count": 6,
   "metadata": {},
   "outputs": [
    {
     "name": "stdout",
     "output_type": "stream",
     "text": [
      "0\n",
      "2\n",
      "4\n",
      "-1\n"
     ]
    }
   ],
   "source": [
    "    #find()\n",
    "\n",
    "s = 'abcd1234dcba'\n",
    "print(s.find('a'))  \n",
    "print(s.find('cd'))  \n",
    "print(s.find('1', 0, 5))  \n",
    "print(s.find('1', 0, 2)) "
   ]
  },
  {
   "cell_type": "code",
   "execution_count": 7,
   "metadata": {},
   "outputs": [
    {
     "name": "stdout",
     "output_type": "stream",
     "text": [
      "abCDbCa\n"
     ]
    }
   ],
   "source": [
    "    #translate()\n",
    "\n",
    "s = 'ABCDBCA'\n",
    "\n",
    "translation = s.maketrans({ord('A'): 'a', ord('B'): ord('b')})  \n",
    "print(s.translate(translation))"
   ]
  },
  {
   "cell_type": "code",
   "execution_count": 8,
   "metadata": {},
   "outputs": [
    {
     "name": "stdout",
     "output_type": "stream",
     "text": [
      "Lowercase String = 987abcdef%$\n",
      "Original String = 987abcDEF%$\n"
     ]
    }
   ],
   "source": [
    "#lowercase()\n",
    "\n",
    "s = '987abcDEF%$'\n",
    "\n",
    "print('Lowercase String =', s.lower())\n",
    "print('Original String =', s)"
   ]
  },
  {
   "cell_type": "markdown",
   "metadata": {},
   "source": [
    "Assignment 2 (different functions of the list object in python)"
   ]
  },
  {
   "cell_type": "code",
   "execution_count": 9,
   "metadata": {},
   "outputs": [
    {
     "name": "stdout",
     "output_type": "stream",
     "text": [
      "[237.81, 238.11, 238.91]\n"
     ]
    }
   ],
   "source": [
    "      # sort()\n",
    "\n",
    "prices = [238.11, 237.81, 238.91]\n",
    "prices.sort()\n",
    "print(prices)"
   ]
  },
  {
   "cell_type": "code",
   "execution_count": 12,
   "metadata": {},
   "outputs": [
    {
     "name": "stdout",
     "output_type": "stream",
     "text": [
      "['January', 'February', 'March', 'April']\n"
     ]
    }
   ],
   "source": [
    "     #append()\n",
    "\n",
    "months = ['January', 'February', 'March']\n",
    "months.append('April')\n",
    "print(months)"
   ]
  },
  {
   "cell_type": "code",
   "execution_count": 11,
   "metadata": {},
   "outputs": [
    {
     "data": {
      "text/plain": [
       "[1, 2, 3, 4, 5]"
      ]
     },
     "execution_count": 11,
     "metadata": {},
     "output_type": "execute_result"
    }
   ],
   "source": [
    "    #extend()\n",
    "\n",
    "x = [1, 2, 3]\n",
    "x.extend([4, 5])\n",
    "x"
   ]
  },
  {
   "cell_type": "code",
   "execution_count": 13,
   "metadata": {},
   "outputs": [
    {
     "name": "stdout",
     "output_type": "stream",
     "text": [
      "159.54\n"
     ]
    }
   ],
   "source": [
    "     #max()\n",
    "\n",
    "prices = [159.54, 37.13, 71.17]\n",
    "price_max = max(prices)\n",
    "print(price_max)"
   ]
  },
  {
   "cell_type": "code",
   "execution_count": 15,
   "metadata": {},
   "outputs": [
    {
     "name": "stdout",
     "output_type": "stream",
     "text": [
      "stock_price_1 length is  1\n",
      "stock_price_2 length is  3\n"
     ]
    }
   ],
   "source": [
    "     #len()\n",
    "\n",
    "stock_price_1 = [50.23]\n",
    "stock_price_2 = [75.14, 85.64, 11.28]\n",
    "\n",
    "print('stock_price_1 length is ', len(stock_price_1))\n",
    "print('stock_price_2 length is ', len(stock_price_2))"
   ]
  },
  {
   "cell_type": "markdown",
   "metadata": {},
   "source": [
    "Assignment 3 (default functions of dictionary)"
   ]
  },
  {
   "cell_type": "code",
   "execution_count": 51,
   "metadata": {},
   "outputs": [
    {
     "name": "stdout",
     "output_type": "stream",
     "text": [
      "Length : 4\n"
     ]
    }
   ],
   "source": [
    "    #len(dict)\n",
    "\n",
    "Dict = {'Tim': 18,'Charlie':12,'Tiffany':22,'Robert':25}\t\n",
    "print(\"Length : %d\" % len (Dict))\n"
   ]
  },
  {
   "cell_type": "code",
   "execution_count": 52,
   "metadata": {},
   "outputs": [
    {
     "name": "stdout",
     "output_type": "stream",
     "text": [
      "printable string:{'Tim': 18, 'Charlie': 12, 'Tiffany': 22, 'Robert': 25}\n"
     ]
    }
   ],
   "source": [
    "    #str(dict)\n",
    "\n",
    "Dict = {'Tim': 18,'Charlie':12,'Tiffany':22,'Robert':25}\t\n",
    "print(\"printable string:%s\" % str (Dict))"
   ]
  },
  {
   "cell_type": "code",
   "execution_count": 57,
   "metadata": {},
   "outputs": [
    {
     "name": "stdout",
     "output_type": "stream",
     "text": [
      "Students Name: [('Tim', 18), ('Charlie', 12), ('Tiffany', 22), ('Robert', 25)]\n"
     ]
    }
   ],
   "source": [
    "     #items(dict)\n",
    "\n",
    "Dict = {'Tim': 18,'Charlie':12,'Tiffany':22,'Robert':25}\t\n",
    "print(\"Students Name: %s\" % list(Dict.items()))"
   ]
  },
  {
   "cell_type": "code",
   "execution_count": 58,
   "metadata": {},
   "outputs": [
    {
     "name": "stdout",
     "output_type": "stream",
     "text": [
      "variable Type: <class 'dict'>\n"
     ]
    }
   ],
   "source": [
    "     #type(dict)\n",
    "\n",
    "Dict = {'Tim': 18,'Charlie':12,'Tiffany':22,'Robert':25}\t\n",
    "print(\"variable Type: %s\" %type (Dict))"
   ]
  },
  {
   "cell_type": "code",
   "execution_count": 62,
   "metadata": {},
   "outputs": [
    {
     "name": "stdout",
     "output_type": "stream",
     "text": [
      "{'Tim': 18, 'Charlie': 12, 'Tiffany': 22, 'Robert': 25, 'Sarah': 9}\n"
     ]
    }
   ],
   "source": [
    "     #update(dict)\n",
    "\n",
    "Dict = {'Tim': 18,'Charlie':12,'Tiffany':22,'Robert':25}\t\n",
    "Dict.update({\"Sarah\":9})\n",
    "print(Dict)"
   ]
  }
 ],
 "metadata": {
  "kernelspec": {
   "display_name": "Python 3",
   "language": "python",
   "name": "python3"
  },
  "language_info": {
   "codemirror_mode": {
    "name": "ipython",
    "version": 3
   },
   "file_extension": ".py",
   "mimetype": "text/x-python",
   "name": "python",
   "nbconvert_exporter": "python",
   "pygments_lexer": "ipython3",
   "version": "3.8.3"
  }
 },
 "nbformat": 4,
 "nbformat_minor": 4
}
