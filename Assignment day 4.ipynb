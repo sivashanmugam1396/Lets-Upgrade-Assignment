{
 "cells": [
  {
   "cell_type": "markdown",
   "metadata": {},
   "source": [
    "Assignment 1 ( write a program in python for opening a file and writing \" i love lets upgrade\" and close it, read it back again, and then append some data to it and close it)"
   ]
  },
  {
   "cell_type": "code",
   "execution_count": 1,
   "metadata": {},
   "outputs": [
    {
     "name": "stdout",
     "output_type": "stream",
     "text": [
      "I love Letsupgrade  To gain knowledge!\n"
     ]
    }
   ],
   "source": [
    "f = open(\"yoga.txt\", \"w\")\n",
    "f.write(\"I love Letsupgrade\")\n",
    "f.close()\n",
    "\n",
    "\n",
    "f = open(\"yoga.txt\", \"r+\")\n",
    "\n",
    "file = open('yoga.txt','a') \n",
    "file.write(\"  To gain knowledge!\")\n",
    "file.close() \n",
    "\n",
    "print(f.read())\n"
   ]
  },
  {
   "cell_type": "markdown",
   "metadata": {},
   "source": [
    "Assignment 2 (write a function which can return a list of factorial of any numbers as int,given in the argument)\n"
   ]
  },
  {
   "cell_type": "code",
   "execution_count": 4,
   "metadata": {},
   "outputs": [
    {
     "name": "stdout",
     "output_type": "stream",
     "text": [
      "Enter any number: 10\n",
      "The factorial of 10 is 3628800\n"
     ]
    }
   ],
   "source": [
    "import math\n",
    "n = int(input(\"Enter any number: \"))\n",
    "fact = math.factorial(n)\n",
    "print(\"The factorial of %d is %d\" %(n,fact))"
   ]
  }
 ],
 "metadata": {
  "kernelspec": {
   "display_name": "Python 3",
   "language": "python",
   "name": "python3"
  },
  "language_info": {
   "codemirror_mode": {
    "name": "ipython",
    "version": 3
   },
   "file_extension": ".py",
   "mimetype": "text/x-python",
   "name": "python",
   "nbconvert_exporter": "python",
   "pygments_lexer": "ipython3",
   "version": "3.8.3"
  }
 },
 "nbformat": 4,
 "nbformat_minor": 4
}
