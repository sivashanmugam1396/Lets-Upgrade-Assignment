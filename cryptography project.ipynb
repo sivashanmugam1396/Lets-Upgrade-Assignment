{
 "cells": [
  {
   "cell_type": "code",
   "execution_count": 1,
   "metadata": {},
   "outputs": [
    {
     "name": "stdout",
     "output_type": "stream",
     "text": [
      "Requirement already satisfied: cryptography in c:\\users\\ram\\anaconda3\\lib\\site-packages (3.1.1)\n",
      "Requirement already satisfied: six>=1.4.1 in c:\\users\\ram\\anaconda3\\lib\\site-packages (from cryptography) (1.15.0)\n",
      "Requirement already satisfied: cffi!=1.11.3,>=1.8 in c:\\users\\ram\\anaconda3\\lib\\site-packages (from cryptography) (1.14.3)\n",
      "Requirement already satisfied: pycparser in c:\\users\\ram\\anaconda3\\lib\\site-packages (from cffi!=1.11.3,>=1.8->cryptography) (2.20)\n",
      "Note: you may need to restart the kernel to use updated packages.\n"
     ]
    }
   ],
   "source": [
    "pip install cryptography"
   ]
  },
  {
   "cell_type": "code",
   "execution_count": 5,
   "metadata": {},
   "outputs": [
    {
     "name": "stdout",
     "output_type": "stream",
     "text": [
      "Enter the Content you want to Encrypt in your python Scripthello\n",
      "b'ILbV56VeL8NM5WRdCx4nTLYZ5xC0IYANxRkttLSZ_Rc='\n",
      "<class 'bytes'>\n",
      "\n",
      "The encrypted Message is =>  b'gAAAAABf2bNpSYSpct9VCttKA59on4YCn36URwyoshFA1HCoH1bG1ZPdhayLuSfeIMovTLGSW-3EOT_2THJzYjcD6K-sz2ecsw=='\n",
      "\n",
      "Key found!!!\n",
      "\n",
      "The decrypted Message is =>  hello\n"
     ]
    }
   ],
   "source": [
    "\n",
    "from cryptography.fernet import Fernet\n",
    "\n",
    "\n",
    "def genratePassKey():\n",
    "    key = Fernet.generate_key()\n",
    "    print(key)\n",
    "    print(type(key))\n",
    "    abc = open(\"PasswordKey.key\",'wb')\n",
    "    abc.write(key)\n",
    "    abc.close()\n",
    "    return key\n",
    "\n",
    "\n",
    "def getMyKey():\n",
    "    abc = open(\"PasswordKey.key\",'rb')\n",
    "    key = abc.read()\n",
    "    abc.close()\n",
    "    return key\n",
    "\n",
    "\n",
    "def getContentFromUser():\n",
    "    return input(\"Enter the Content you want to Encrypt in your python Script\")\n",
    "\n",
    "\n",
    "def encryptMessage(message_normal):\n",
    "    key = getMyKey()\n",
    "    encoded_message = message_normal.encode()\n",
    "    k = Fernet(key)\n",
    "    encrypted_Message = k.encrypt(encoded_message)\n",
    "    return encrypted_Message\n",
    "\n",
    "\n",
    "def decryptMessage(message_secret):\n",
    "    key = getMyKey()\n",
    "    k = Fernet(key)\n",
    "    decrypted_Message = k.decrypt(message_secret)\n",
    "    return decrypted_Message.decode()\n",
    "\n",
    "\n",
    "txt = getContentFromUser()\n",
    "pass_key = genratePassKey()\n",
    "encrypted_Message = encryptMessage(txt)\n",
    "print(\"\\nThe encrypted Message is => \", encrypted_Message)\n",
    "key = getMyKey()\n",
    "if key == pass_key:\n",
    "    print(\"\\nKey found!!!\")\n",
    "    print(\"\\nThe decrypted Message is => \", decryptMessage(encrypted_Message))\n"
   ]
  },
  {
   "cell_type": "code",
   "execution_count": null,
   "metadata": {},
   "outputs": [],
   "source": []
  }
 ],
 "metadata": {
  "kernelspec": {
   "display_name": "Python 3",
   "language": "python",
   "name": "python3"
  },
  "language_info": {
   "codemirror_mode": {
    "name": "ipython",
    "version": 3
   },
   "file_extension": ".py",
   "mimetype": "text/x-python",
   "name": "python",
   "nbconvert_exporter": "python",
   "pygments_lexer": "ipython3",
   "version": "3.8.5"
  }
 },
 "nbformat": 4,
 "nbformat_minor": 4
}
